{
 "cells": [
  {
   "cell_type": "code",
   "execution_count": 1,
   "metadata": {},
   "outputs": [],
   "source": [
    "import pandas as pd\n",
    "import numpy as np\n",
    "import matplotlib.pyplot as plt\n",
    "import seaborn as sns\n",
    "from pandas import Series, DataFrame\n"
   ]
  },
  {
   "cell_type": "code",
   "execution_count": 2,
   "metadata": {},
   "outputs": [],
   "source": [
    "df=pd.read_csv(\"C:/Users/JAYANK/Desktop/aspiration ai internship/week3.csv\")"
   ]
  },
  {
   "cell_type": "code",
   "execution_count": 3,
   "metadata": {},
   "outputs": [
    {
     "data": {
      "text/html": [
       "<div>\n",
       "<style scoped>\n",
       "    .dataframe tbody tr th:only-of-type {\n",
       "        vertical-align: middle;\n",
       "    }\n",
       "\n",
       "    .dataframe tbody tr th {\n",
       "        vertical-align: top;\n",
       "    }\n",
       "\n",
       "    .dataframe thead th {\n",
       "        text-align: right;\n",
       "    }\n",
       "</style>\n",
       "<table border=\"1\" class=\"dataframe\">\n",
       "  <thead>\n",
       "    <tr style=\"text-align: right;\">\n",
       "      <th></th>\n",
       "      <th>Date</th>\n",
       "      <th>Unnamed: 0</th>\n",
       "      <th>Symbol</th>\n",
       "      <th>Series</th>\n",
       "      <th>Date.1</th>\n",
       "      <th>Prev Close</th>\n",
       "      <th>Open Price</th>\n",
       "      <th>High Price</th>\n",
       "      <th>Low Price</th>\n",
       "      <th>Last Price</th>\n",
       "      <th>...</th>\n",
       "      <th>Day_perc_change</th>\n",
       "      <th>Trend</th>\n",
       "      <th>Close_price</th>\n",
       "      <th>21_day_SMA</th>\n",
       "      <th>34_day_SMA</th>\n",
       "      <th>Trade_Call</th>\n",
       "      <th>14days_sma</th>\n",
       "      <th>14days_std</th>\n",
       "      <th>14days_bollinger_upper</th>\n",
       "      <th>14days_bollinger_lower</th>\n",
       "    </tr>\n",
       "  </thead>\n",
       "  <tbody>\n",
       "    <tr>\n",
       "      <td>0</td>\n",
       "      <td>15-05-2017</td>\n",
       "      <td>0</td>\n",
       "      <td>TCS</td>\n",
       "      <td>EQ</td>\n",
       "      <td>15-05-2017</td>\n",
       "      <td>2360.65</td>\n",
       "      <td>2375.10</td>\n",
       "      <td>2377.95</td>\n",
       "      <td>2341.60</td>\n",
       "      <td>2368.00</td>\n",
       "      <td>...</td>\n",
       "      <td>0.000000</td>\n",
       "      <td>Slight or No change</td>\n",
       "      <td>2365.10</td>\n",
       "      <td>NaN</td>\n",
       "      <td>NaN</td>\n",
       "      <td>HODL</td>\n",
       "      <td>NaN</td>\n",
       "      <td>NaN</td>\n",
       "      <td>NaN</td>\n",
       "      <td>NaN</td>\n",
       "    </tr>\n",
       "    <tr>\n",
       "      <td>1</td>\n",
       "      <td>16-05-2017</td>\n",
       "      <td>1</td>\n",
       "      <td>TCS</td>\n",
       "      <td>EQ</td>\n",
       "      <td>16-05-2017</td>\n",
       "      <td>2365.10</td>\n",
       "      <td>2380.00</td>\n",
       "      <td>2435.00</td>\n",
       "      <td>2373.45</td>\n",
       "      <td>2425.10</td>\n",
       "      <td>...</td>\n",
       "      <td>2.708131</td>\n",
       "      <td>positive</td>\n",
       "      <td>2429.15</td>\n",
       "      <td>NaN</td>\n",
       "      <td>NaN</td>\n",
       "      <td>HODL</td>\n",
       "      <td>NaN</td>\n",
       "      <td>NaN</td>\n",
       "      <td>NaN</td>\n",
       "      <td>NaN</td>\n",
       "    </tr>\n",
       "    <tr>\n",
       "      <td>2</td>\n",
       "      <td>17-05-2017</td>\n",
       "      <td>2</td>\n",
       "      <td>TCS</td>\n",
       "      <td>EQ</td>\n",
       "      <td>17-05-2017</td>\n",
       "      <td>2429.15</td>\n",
       "      <td>2433.50</td>\n",
       "      <td>2460.75</td>\n",
       "      <td>2423.00</td>\n",
       "      <td>2450.00</td>\n",
       "      <td>...</td>\n",
       "      <td>1.078567</td>\n",
       "      <td>positive</td>\n",
       "      <td>2455.35</td>\n",
       "      <td>NaN</td>\n",
       "      <td>NaN</td>\n",
       "      <td>HODL</td>\n",
       "      <td>NaN</td>\n",
       "      <td>NaN</td>\n",
       "      <td>NaN</td>\n",
       "      <td>NaN</td>\n",
       "    </tr>\n",
       "    <tr>\n",
       "      <td>3</td>\n",
       "      <td>18-05-2017</td>\n",
       "      <td>3</td>\n",
       "      <td>TCS</td>\n",
       "      <td>EQ</td>\n",
       "      <td>18-05-2017</td>\n",
       "      <td>2455.35</td>\n",
       "      <td>2450.00</td>\n",
       "      <td>2572.00</td>\n",
       "      <td>2442.25</td>\n",
       "      <td>2525.00</td>\n",
       "      <td>...</td>\n",
       "      <td>3.292810</td>\n",
       "      <td>Among top gainers</td>\n",
       "      <td>2536.20</td>\n",
       "      <td>NaN</td>\n",
       "      <td>NaN</td>\n",
       "      <td>HODL</td>\n",
       "      <td>NaN</td>\n",
       "      <td>NaN</td>\n",
       "      <td>NaN</td>\n",
       "      <td>NaN</td>\n",
       "    </tr>\n",
       "    <tr>\n",
       "      <td>4</td>\n",
       "      <td>19-05-2017</td>\n",
       "      <td>4</td>\n",
       "      <td>TCS</td>\n",
       "      <td>EQ</td>\n",
       "      <td>19-05-2017</td>\n",
       "      <td>2536.20</td>\n",
       "      <td>2536.20</td>\n",
       "      <td>2540.55</td>\n",
       "      <td>2486.00</td>\n",
       "      <td>2503.85</td>\n",
       "      <td>...</td>\n",
       "      <td>-1.145414</td>\n",
       "      <td>negative</td>\n",
       "      <td>2507.15</td>\n",
       "      <td>NaN</td>\n",
       "      <td>NaN</td>\n",
       "      <td>HODL</td>\n",
       "      <td>NaN</td>\n",
       "      <td>NaN</td>\n",
       "      <td>NaN</td>\n",
       "      <td>NaN</td>\n",
       "    </tr>\n",
       "    <tr>\n",
       "      <td>...</td>\n",
       "      <td>...</td>\n",
       "      <td>...</td>\n",
       "      <td>...</td>\n",
       "      <td>...</td>\n",
       "      <td>...</td>\n",
       "      <td>...</td>\n",
       "      <td>...</td>\n",
       "      <td>...</td>\n",
       "      <td>...</td>\n",
       "      <td>...</td>\n",
       "      <td>...</td>\n",
       "      <td>...</td>\n",
       "      <td>...</td>\n",
       "      <td>...</td>\n",
       "      <td>...</td>\n",
       "      <td>...</td>\n",
       "      <td>...</td>\n",
       "      <td>...</td>\n",
       "      <td>...</td>\n",
       "      <td>...</td>\n",
       "      <td>...</td>\n",
       "    </tr>\n",
       "    <tr>\n",
       "      <td>489</td>\n",
       "      <td>07-05-2019</td>\n",
       "      <td>493</td>\n",
       "      <td>TCS</td>\n",
       "      <td>EQ</td>\n",
       "      <td>07-05-2019</td>\n",
       "      <td>2157.85</td>\n",
       "      <td>2160.05</td>\n",
       "      <td>2184.35</td>\n",
       "      <td>2138.80</td>\n",
       "      <td>2154.00</td>\n",
       "      <td>...</td>\n",
       "      <td>-0.273420</td>\n",
       "      <td>Bull run</td>\n",
       "      <td>2151.95</td>\n",
       "      <td>2124.990476</td>\n",
       "      <td>2081.357353</td>\n",
       "      <td>HODL</td>\n",
       "      <td>2161.478571</td>\n",
       "      <td>59.600654</td>\n",
       "      <td>2280.679880</td>\n",
       "      <td>2042.277263</td>\n",
       "    </tr>\n",
       "    <tr>\n",
       "      <td>490</td>\n",
       "      <td>08-05-2019</td>\n",
       "      <td>494</td>\n",
       "      <td>TCS</td>\n",
       "      <td>EQ</td>\n",
       "      <td>08-05-2019</td>\n",
       "      <td>2151.95</td>\n",
       "      <td>2151.00</td>\n",
       "      <td>2168.00</td>\n",
       "      <td>2130.40</td>\n",
       "      <td>2156.00</td>\n",
       "      <td>...</td>\n",
       "      <td>0.041823</td>\n",
       "      <td>Bull run</td>\n",
       "      <td>2152.85</td>\n",
       "      <td>2128.492857</td>\n",
       "      <td>2086.223529</td>\n",
       "      <td>HODL</td>\n",
       "      <td>2171.360714</td>\n",
       "      <td>42.320799</td>\n",
       "      <td>2256.002313</td>\n",
       "      <td>2086.719115</td>\n",
       "    </tr>\n",
       "    <tr>\n",
       "      <td>491</td>\n",
       "      <td>09-05-2019</td>\n",
       "      <td>495</td>\n",
       "      <td>TCS</td>\n",
       "      <td>EQ</td>\n",
       "      <td>09-05-2019</td>\n",
       "      <td>2152.85</td>\n",
       "      <td>2145.00</td>\n",
       "      <td>2184.10</td>\n",
       "      <td>2136.10</td>\n",
       "      <td>2171.20</td>\n",
       "      <td>...</td>\n",
       "      <td>0.915066</td>\n",
       "      <td>Bull run</td>\n",
       "      <td>2172.55</td>\n",
       "      <td>2136.019048</td>\n",
       "      <td>2090.123529</td>\n",
       "      <td>HODL</td>\n",
       "      <td>2175.592857</td>\n",
       "      <td>38.891629</td>\n",
       "      <td>2253.376115</td>\n",
       "      <td>2097.809600</td>\n",
       "    </tr>\n",
       "    <tr>\n",
       "      <td>492</td>\n",
       "      <td>10-05-2019</td>\n",
       "      <td>496</td>\n",
       "      <td>TCS</td>\n",
       "      <td>EQ</td>\n",
       "      <td>10-05-2019</td>\n",
       "      <td>2172.55</td>\n",
       "      <td>2175.00</td>\n",
       "      <td>2192.00</td>\n",
       "      <td>2125.85</td>\n",
       "      <td>2130.25</td>\n",
       "      <td>...</td>\n",
       "      <td>-1.691561</td>\n",
       "      <td>Bull run</td>\n",
       "      <td>2135.80</td>\n",
       "      <td>2140.185714</td>\n",
       "      <td>2093.447059</td>\n",
       "      <td>HODL</td>\n",
       "      <td>2175.878571</td>\n",
       "      <td>38.558426</td>\n",
       "      <td>2252.995423</td>\n",
       "      <td>2098.761720</td>\n",
       "    </tr>\n",
       "    <tr>\n",
       "      <td>493</td>\n",
       "      <td>13-05-2019</td>\n",
       "      <td>497</td>\n",
       "      <td>TCS</td>\n",
       "      <td>EQ</td>\n",
       "      <td>13-05-2019</td>\n",
       "      <td>2135.80</td>\n",
       "      <td>2133.00</td>\n",
       "      <td>2167.00</td>\n",
       "      <td>2121.65</td>\n",
       "      <td>2134.00</td>\n",
       "      <td>...</td>\n",
       "      <td>-0.330087</td>\n",
       "      <td>Bull run</td>\n",
       "      <td>2128.75</td>\n",
       "      <td>2142.947619</td>\n",
       "      <td>2096.563235</td>\n",
       "      <td>HODL</td>\n",
       "      <td>2174.357143</td>\n",
       "      <td>40.047433</td>\n",
       "      <td>2254.452008</td>\n",
       "      <td>2094.262277</td>\n",
       "    </tr>\n",
       "  </tbody>\n",
       "</table>\n",
       "<p>494 rows × 30 columns</p>\n",
       "</div>"
      ],
      "text/plain": [
       "           Date  Unnamed: 0 Symbol Series      Date.1  Prev Close  Open Price  \\\n",
       "0    15-05-2017           0    TCS     EQ  15-05-2017     2360.65     2375.10   \n",
       "1    16-05-2017           1    TCS     EQ  16-05-2017     2365.10     2380.00   \n",
       "2    17-05-2017           2    TCS     EQ  17-05-2017     2429.15     2433.50   \n",
       "3    18-05-2017           3    TCS     EQ  18-05-2017     2455.35     2450.00   \n",
       "4    19-05-2017           4    TCS     EQ  19-05-2017     2536.20     2536.20   \n",
       "..          ...         ...    ...    ...         ...         ...         ...   \n",
       "489  07-05-2019         493    TCS     EQ  07-05-2019     2157.85     2160.05   \n",
       "490  08-05-2019         494    TCS     EQ  08-05-2019     2151.95     2151.00   \n",
       "491  09-05-2019         495    TCS     EQ  09-05-2019     2152.85     2145.00   \n",
       "492  10-05-2019         496    TCS     EQ  10-05-2019     2172.55     2175.00   \n",
       "493  13-05-2019         497    TCS     EQ  13-05-2019     2135.80     2133.00   \n",
       "\n",
       "     High Price  Low Price  Last Price  ...  Day_perc_change  \\\n",
       "0       2377.95    2341.60     2368.00  ...         0.000000   \n",
       "1       2435.00    2373.45     2425.10  ...         2.708131   \n",
       "2       2460.75    2423.00     2450.00  ...         1.078567   \n",
       "3       2572.00    2442.25     2525.00  ...         3.292810   \n",
       "4       2540.55    2486.00     2503.85  ...        -1.145414   \n",
       "..          ...        ...         ...  ...              ...   \n",
       "489     2184.35    2138.80     2154.00  ...        -0.273420   \n",
       "490     2168.00    2130.40     2156.00  ...         0.041823   \n",
       "491     2184.10    2136.10     2171.20  ...         0.915066   \n",
       "492     2192.00    2125.85     2130.25  ...        -1.691561   \n",
       "493     2167.00    2121.65     2134.00  ...        -0.330087   \n",
       "\n",
       "                   Trend  Close_price   21_day_SMA   34_day_SMA  Trade_Call  \\\n",
       "0    Slight or No change      2365.10          NaN          NaN        HODL   \n",
       "1               positive      2429.15          NaN          NaN        HODL   \n",
       "2               positive      2455.35          NaN          NaN        HODL   \n",
       "3      Among top gainers      2536.20          NaN          NaN        HODL   \n",
       "4               negative      2507.15          NaN          NaN        HODL   \n",
       "..                   ...          ...          ...          ...         ...   \n",
       "489             Bull run      2151.95  2124.990476  2081.357353        HODL   \n",
       "490             Bull run      2152.85  2128.492857  2086.223529        HODL   \n",
       "491             Bull run      2172.55  2136.019048  2090.123529        HODL   \n",
       "492             Bull run      2135.80  2140.185714  2093.447059        HODL   \n",
       "493             Bull run      2128.75  2142.947619  2096.563235        HODL   \n",
       "\n",
       "      14days_sma  14days_std  14days_bollinger_upper  14days_bollinger_lower  \n",
       "0            NaN         NaN                     NaN                     NaN  \n",
       "1            NaN         NaN                     NaN                     NaN  \n",
       "2            NaN         NaN                     NaN                     NaN  \n",
       "3            NaN         NaN                     NaN                     NaN  \n",
       "4            NaN         NaN                     NaN                     NaN  \n",
       "..           ...         ...                     ...                     ...  \n",
       "489  2161.478571   59.600654             2280.679880             2042.277263  \n",
       "490  2171.360714   42.320799             2256.002313             2086.719115  \n",
       "491  2175.592857   38.891629             2253.376115             2097.809600  \n",
       "492  2175.878571   38.558426             2252.995423             2098.761720  \n",
       "493  2174.357143   40.047433             2254.452008             2094.262277  \n",
       "\n",
       "[494 rows x 30 columns]"
      ]
     },
     "execution_count": 3,
     "metadata": {},
     "output_type": "execute_result"
    }
   ],
   "source": [
    "df"
   ]
  },
  {
   "cell_type": "code",
   "execution_count": 4,
   "metadata": {},
   "outputs": [],
   "source": [
    "# to get the daily based return mean\n",
    "dailymean=df['Close Price'].pct_change().dropna().mean()"
   ]
  },
  {
   "cell_type": "code",
   "execution_count": 5,
   "metadata": {},
   "outputs": [],
   "source": [
    "# to get the daily based return std\n",
    "dailystd=df['Close Price'].pct_change().dropna().std()"
   ]
  },
  {
   "cell_type": "code",
   "execution_count": 6,
   "metadata": {},
   "outputs": [],
   "source": [
    "# to get the annualy based return mean\n",
    "annualymean=df['Close Price'].pct_change().dropna().mean()*252"
   ]
  },
  {
   "cell_type": "code",
   "execution_count": 7,
   "metadata": {},
   "outputs": [],
   "source": [
    "# to get the annualy based return std\n",
    "annualystd=df['Close Price'].pct_change().dropna().std()*np.sqrt(252)"
   ]
  },
  {
   "cell_type": "code",
   "execution_count": 9,
   "metadata": {},
   "outputs": [],
   "source": [
    "data1=[[dailymean,dailystd,annualymean,annualystd]]"
   ]
  },
  {
   "cell_type": "code",
   "execution_count": 10,
   "metadata": {},
   "outputs": [],
   "source": [
    "# to create a new dataframe of a single stocks.\n",
    "tcs=pd.DataFrame(columns=['daily mean return','daily std return','annualy mean return','annualy std return'],data=data1)"
   ]
  },
  {
   "cell_type": "code",
   "execution_count": 11,
   "metadata": {},
   "outputs": [
    {
     "data": {
      "text/html": [
       "<div>\n",
       "<style scoped>\n",
       "    .dataframe tbody tr th:only-of-type {\n",
       "        vertical-align: middle;\n",
       "    }\n",
       "\n",
       "    .dataframe tbody tr th {\n",
       "        vertical-align: top;\n",
       "    }\n",
       "\n",
       "    .dataframe thead th {\n",
       "        text-align: right;\n",
       "    }\n",
       "</style>\n",
       "<table border=\"1\" class=\"dataframe\">\n",
       "  <thead>\n",
       "    <tr style=\"text-align: right;\">\n",
       "      <th></th>\n",
       "      <th>daily mean return</th>\n",
       "      <th>daily std return</th>\n",
       "      <th>annualy mean return</th>\n",
       "      <th>annualy std return</th>\n",
       "    </tr>\n",
       "  </thead>\n",
       "  <tbody>\n",
       "    <tr>\n",
       "      <td>0</td>\n",
       "      <td>0.000298</td>\n",
       "      <td>0.027189</td>\n",
       "      <td>0.075027</td>\n",
       "      <td>0.431617</td>\n",
       "    </tr>\n",
       "  </tbody>\n",
       "</table>\n",
       "</div>"
      ],
      "text/plain": [
       "   daily mean return  daily std return  annualy mean return  \\\n",
       "0           0.000298          0.027189             0.075027   \n",
       "\n",
       "   annualy std return  \n",
       "0            0.431617  "
      ]
     },
     "execution_count": 11,
     "metadata": {},
     "output_type": "execute_result"
    }
   ],
   "source": [
    "tcs"
   ]
  },
  {
   "cell_type": "code",
   "execution_count": 12,
   "metadata": {},
   "outputs": [],
   "source": [
    "x=['TCS','RELIANCE','IDBI','PVR','TITAN']\n",
    "columns=['Dailymean','Dailystd','Annualymean','Annualystd']"
   ]
  },
  {
   "cell_type": "code",
   "execution_count": null,
   "metadata": {},
   "outputs": [],
   "source": []
  },
  {
   "cell_type": "code",
   "execution_count": 13,
   "metadata": {},
   "outputs": [],
   "source": [
    "df1=pd.read_csv(\"C:/Users/JAYANK/Desktop/aspiration ai internship/{}.csv\".format('TCS'))\n",
    "dailymean1=df1['Close Price'].pct_change().dropna().mean()\n",
    "dailystd1=df1['Close Price'].pct_change().dropna().std()\n",
    "annualymean1=df1['Close Price'].pct_change().dropna().mean()*252\n",
    "annualystd1=df1['Close Price'].pct_change().dropna().std()*np.sqrt(252)\n",
    "\n",
    "\n",
    "df1=pd.read_csv(\"C:/Users/JAYANK/Desktop/aspiration ai internship/{}.csv\".format('RELIANCE'))\n",
    "dailymean2=df1['Close Price'].pct_change().dropna().mean()\n",
    "dailystd2=df1['Close Price'].pct_change().dropna().std()\n",
    "annualymean2=df1['Close Price'].pct_change().dropna().mean()*252\n",
    "annualystd2=df1['Close Price'].pct_change().dropna().std()*np.sqrt(252)\n",
    "\n",
    "\n",
    "df1=pd.read_csv(\"C:/Users/JAYANK/Desktop/aspiration ai internship/{}.csv\".format('IDBI'))\n",
    "dailymean3=df1['Close Price'].pct_change().dropna().mean()\n",
    "dailystd3=df1['Close Price'].pct_change().dropna().std()\n",
    "annualymean3=df1['Close Price'].pct_change().dropna().mean()*252\n",
    "annualystd3=df1['Close Price'].pct_change().dropna().std()*np.sqrt(252)\n",
    "\n",
    "\n",
    "df1=pd.read_csv(\"C:/Users/JAYANK/Desktop/aspiration ai internship/{}.csv\".format('PVR'))\n",
    "dailymean4=df1['Close Price'].pct_change().dropna().mean()\n",
    "dailystd4=df1['Close Price'].pct_change().dropna().std()\n",
    "annualymean4=df1['Close Price'].pct_change().dropna().mean()*252\n",
    "annualystd4=df1['Close Price'].pct_change().dropna().std()*np.sqrt(252)\n",
    "\n",
    "df1=pd.read_csv(\"C:/Users/JAYANK/Desktop/aspiration ai internship/{}.csv\".format('TITAN'))\n",
    "dailymean5=df1['Close Price'].pct_change().dropna().mean()\n",
    "dailystd5=df1['Close Price'].pct_change().dropna().std()\n",
    "annualymean5=df1['Close Price'].pct_change().dropna().mean()*252\n",
    "annualystd5=df1['Close Price'].pct_change().dropna().std()*np.sqrt(252)\n",
    "\n",
    "\n",
    "data2=[[dailymean1,dailystd1,annualymean1,annualystd1],[dailymean2,dailystd2,annualymean2,annualystd2],[dailymean3,dailystd3,annualymean3,annualystd3],[dailymean4,dailystd4,annualymean4,annualystd4],[dailymean5,dailystd5,annualymean5,annualystd5]]\n",
    "portfolio=pd.DataFrame(columns=columns,data=data2,index=x)"
   ]
  },
  {
   "cell_type": "code",
   "execution_count": 14,
   "metadata": {},
   "outputs": [
    {
     "data": {
      "text/html": [
       "<div>\n",
       "<style scoped>\n",
       "    .dataframe tbody tr th:only-of-type {\n",
       "        vertical-align: middle;\n",
       "    }\n",
       "\n",
       "    .dataframe tbody tr th {\n",
       "        vertical-align: top;\n",
       "    }\n",
       "\n",
       "    .dataframe thead th {\n",
       "        text-align: right;\n",
       "    }\n",
       "</style>\n",
       "<table border=\"1\" class=\"dataframe\">\n",
       "  <thead>\n",
       "    <tr style=\"text-align: right;\">\n",
       "      <th></th>\n",
       "      <th>Dailymean</th>\n",
       "      <th>Dailystd</th>\n",
       "      <th>Annualymean</th>\n",
       "      <th>Annualystd</th>\n",
       "    </tr>\n",
       "  </thead>\n",
       "  <tbody>\n",
       "    <tr>\n",
       "      <td>TCS</td>\n",
       "      <td>0.000295</td>\n",
       "      <td>0.027079</td>\n",
       "      <td>0.074423</td>\n",
       "      <td>0.429873</td>\n",
       "    </tr>\n",
       "    <tr>\n",
       "      <td>RELIANCE</td>\n",
       "      <td>0.000346</td>\n",
       "      <td>0.027641</td>\n",
       "      <td>0.087141</td>\n",
       "      <td>0.438788</td>\n",
       "    </tr>\n",
       "    <tr>\n",
       "      <td>IDBI</td>\n",
       "      <td>-0.001175</td>\n",
       "      <td>0.028586</td>\n",
       "      <td>-0.296008</td>\n",
       "      <td>0.453787</td>\n",
       "    </tr>\n",
       "    <tr>\n",
       "      <td>PVR</td>\n",
       "      <td>0.000440</td>\n",
       "      <td>0.019521</td>\n",
       "      <td>0.110868</td>\n",
       "      <td>0.309893</td>\n",
       "    </tr>\n",
       "    <tr>\n",
       "      <td>TITAN</td>\n",
       "      <td>0.001943</td>\n",
       "      <td>0.020422</td>\n",
       "      <td>0.489609</td>\n",
       "      <td>0.324192</td>\n",
       "    </tr>\n",
       "  </tbody>\n",
       "</table>\n",
       "</div>"
      ],
      "text/plain": [
       "          Dailymean  Dailystd  Annualymean  Annualystd\n",
       "TCS        0.000295  0.027079     0.074423    0.429873\n",
       "RELIANCE   0.000346  0.027641     0.087141    0.438788\n",
       "IDBI      -0.001175  0.028586    -0.296008    0.453787\n",
       "PVR        0.000440  0.019521     0.110868    0.309893\n",
       "TITAN      0.001943  0.020422     0.489609    0.324192"
      ]
     },
     "execution_count": 14,
     "metadata": {},
     "output_type": "execute_result"
    }
   ],
   "source": [
    "portfolio"
   ]
  },
  {
   "cell_type": "code",
   "execution_count": 21,
   "metadata": {},
   "outputs": [
    {
     "data": {
      "text/plain": [
       "array([0.25, 0.25, 0.25, 0.25])"
      ]
     },
     "execution_count": 21,
     "metadata": {},
     "output_type": "execute_result"
    }
   ],
   "source": [
    "equal_weights = np.full( portfolio.shape[1], 1/portfolio.shape[1] )\n",
    "equal_weights"
   ]
  },
  {
   "cell_type": "code",
   "execution_count": 22,
   "metadata": {},
   "outputs": [
    {
     "data": {
      "text/plain": [
       "-75.61"
      ]
     },
     "execution_count": 22,
     "metadata": {},
     "output_type": "execute_result"
    }
   ],
   "source": [
    "def portfolio_annual_returns(portfolio, weights):\n",
    "    return np.sum( portfolio.pct_change().mean() * weights ) * 252  \n",
    "\n",
    "round( portfolio_annual_returns(portfolio, equal_weights), 2 )"
   ]
  },
  {
   "cell_type": "code",
   "execution_count": 24,
   "metadata": {},
   "outputs": [
    {
     "data": {
      "text/html": [
       "<div>\n",
       "<style scoped>\n",
       "    .dataframe tbody tr th:only-of-type {\n",
       "        vertical-align: middle;\n",
       "    }\n",
       "\n",
       "    .dataframe tbody tr th {\n",
       "        vertical-align: top;\n",
       "    }\n",
       "\n",
       "    .dataframe thead th {\n",
       "        text-align: right;\n",
       "    }\n",
       "</style>\n",
       "<table border=\"1\" class=\"dataframe\">\n",
       "  <thead>\n",
       "    <tr style=\"text-align: right;\">\n",
       "      <th></th>\n",
       "      <th>Dailymean</th>\n",
       "      <th>Dailystd</th>\n",
       "      <th>Annualymean</th>\n",
       "      <th>Annualystd</th>\n",
       "    </tr>\n",
       "  </thead>\n",
       "  <tbody>\n",
       "    <tr>\n",
       "      <td>Dailymean</td>\n",
       "      <td>10.576135</td>\n",
       "      <td>0.109581</td>\n",
       "      <td>10.576135</td>\n",
       "      <td>0.109581</td>\n",
       "    </tr>\n",
       "    <tr>\n",
       "      <td>Dailystd</td>\n",
       "      <td>0.109581</td>\n",
       "      <td>0.030870</td>\n",
       "      <td>0.109581</td>\n",
       "      <td>0.030870</td>\n",
       "    </tr>\n",
       "    <tr>\n",
       "      <td>Annualymean</td>\n",
       "      <td>10.576135</td>\n",
       "      <td>0.109581</td>\n",
       "      <td>10.576135</td>\n",
       "      <td>0.109581</td>\n",
       "    </tr>\n",
       "    <tr>\n",
       "      <td>Annualystd</td>\n",
       "      <td>0.109581</td>\n",
       "      <td>0.030870</td>\n",
       "      <td>0.109581</td>\n",
       "      <td>0.030870</td>\n",
       "    </tr>\n",
       "  </tbody>\n",
       "</table>\n",
       "</div>"
      ],
      "text/plain": [
       "             Dailymean  Dailystd  Annualymean  Annualystd\n",
       "Dailymean    10.576135  0.109581    10.576135    0.109581\n",
       "Dailystd      0.109581  0.030870     0.109581    0.030870\n",
       "Annualymean  10.576135  0.109581    10.576135    0.109581\n",
       "Annualystd    0.109581  0.030870     0.109581    0.030870"
      ]
     },
     "execution_count": 24,
     "metadata": {},
     "output_type": "execute_result"
    }
   ],
   "source": [
    "\n",
    "# Portfolio Covarence matrix\n",
    "portfolio_covarence = portfolio.pct_change().cov()\n",
    "portfolio_covarence\n",
    "\n",
    "\n"
   ]
  },
  {
   "cell_type": "code",
   "execution_count": 122,
   "metadata": {},
   "outputs": [
    {
     "data": {
      "text/plain": [
       "6.55"
      ]
     },
     "execution_count": 122,
     "metadata": {},
     "output_type": "execute_result"
    }
   ],
   "source": [
    "\n",
    "def portfolio_annual_volatility( portfolio, weights ): \n",
    "    return np.sqrt(\n",
    "        np.dot( \n",
    "            weights.T, \n",
    "            np.dot( portfolio.pct_change().cov(), weights )\n",
    "        ) \n",
    "        * np.sqrt(252)\n",
    "    )\n",
    "\n",
    "round( portfolio_annual_volatility(portfolio, equal_weights), 2 )"
   ]
  },
  {
   "cell_type": "code",
   "execution_count": 123,
   "metadata": {},
   "outputs": [
    {
     "data": {
      "text/plain": [
       "-11.54"
      ]
     },
     "execution_count": 123,
     "metadata": {},
     "output_type": "execute_result"
    }
   ],
   "source": [
    "def portfolio_sharpe( portfolio, weights ): \n",
    "    return portfolio_annual_returns( portfolio, weights ) / portfolio_annual_volatility( portfolio, weights )\n",
    "\n",
    "round( portfolio_sharpe(portfolio, equal_weights), 2 )"
   ]
  },
  {
   "cell_type": "code",
   "execution_count": 124,
   "metadata": {},
   "outputs": [
    {
     "name": "stdout",
     "output_type": "stream",
     "text": [
      "Portfolio Annualized Mean Return:  -75.61\n",
      "Portfolio Annualized Volatility:   6.55\n"
     ]
    }
   ],
   "source": [
    "print(\"Portfolio Annualized Mean Return: \", round( portfolio_annual_returns(    portfolio, equal_weights ), 2) )\n",
    "print(\"Portfolio Annualized Volatility:  \", round( portfolio_annual_volatility( portfolio, equal_weights ), 2) )"
   ]
  },
  {
   "cell_type": "code",
   "execution_count": 125,
   "metadata": {},
   "outputs": [
    {
     "data": {
      "text/plain": [
       "array([0.216, 0.176, 0.225, 0.383])"
      ]
     },
     "execution_count": 125,
     "metadata": {},
     "output_type": "execute_result"
    }
   ],
   "source": [
    "\n",
    "def normalize_weights( weights ):\n",
    "    for i in range(0,3):\n",
    "        weights  = np.round( weights, 3 ) \n",
    "        weights /= weights.sum()\n",
    "    return np.asarray(weights)\n",
    "    \n",
    "def random_weights():\n",
    "    weights  = np.random.rand(portfolio.shape[1])\n",
    "    return normalize_weights( weights )\n",
    "\n",
    "random_weights()"
   ]
  },
  {
   "cell_type": "code",
   "execution_count": 126,
   "metadata": {},
   "outputs": [
    {
     "data": {
      "text/html": [
       "<div>\n",
       "<style scoped>\n",
       "    .dataframe tbody tr th:only-of-type {\n",
       "        vertical-align: middle;\n",
       "    }\n",
       "\n",
       "    .dataframe tbody tr th {\n",
       "        vertical-align: top;\n",
       "    }\n",
       "\n",
       "    .dataframe thead th {\n",
       "        text-align: right;\n",
       "    }\n",
       "</style>\n",
       "<table border=\"1\" class=\"dataframe\">\n",
       "  <thead>\n",
       "    <tr style=\"text-align: right;\">\n",
       "      <th></th>\n",
       "      <th>weights</th>\n",
       "      <th>returns</th>\n",
       "      <th>volatility</th>\n",
       "      <th>sharpe</th>\n",
       "    </tr>\n",
       "  </thead>\n",
       "  <tbody>\n",
       "    <tr>\n",
       "      <td>0</td>\n",
       "      <td>[0.316, 0.328, 0.005, 0.351]</td>\n",
       "      <td>-53.416373</td>\n",
       "      <td>4.275965</td>\n",
       "      <td>-12.492238</td>\n",
       "    </tr>\n",
       "    <tr>\n",
       "      <td>1</td>\n",
       "      <td>[0.2557442557442558, 0.28471528471528473, 0.00...</td>\n",
       "      <td>-45.819754</td>\n",
       "      <td>3.502034</td>\n",
       "      <td>-13.083756</td>\n",
       "    </tr>\n",
       "    <tr>\n",
       "      <td>2</td>\n",
       "      <td>[0.1871871871871872, 0.2622622622622623, 0.275...</td>\n",
       "      <td>-70.958668</td>\n",
       "      <td>6.075653</td>\n",
       "      <td>-11.679184</td>\n",
       "    </tr>\n",
       "    <tr>\n",
       "      <td>3</td>\n",
       "      <td>[0.196, 0.275, 0.241, 0.288]</td>\n",
       "      <td>-67.801152</td>\n",
       "      <td>5.750935</td>\n",
       "      <td>-11.789587</td>\n",
       "    </tr>\n",
       "    <tr>\n",
       "      <td>4</td>\n",
       "      <td>[0.467, 0.276, 0.022, 0.235]</td>\n",
       "      <td>-74.249501</td>\n",
       "      <td>6.414325</td>\n",
       "      <td>-11.575576</td>\n",
       "    </tr>\n",
       "  </tbody>\n",
       "</table>\n",
       "</div>"
      ],
      "text/plain": [
       "                                             weights    returns  volatility  \\\n",
       "0                       [0.316, 0.328, 0.005, 0.351] -53.416373    4.275965   \n",
       "1  [0.2557442557442558, 0.28471528471528473, 0.00... -45.819754    3.502034   \n",
       "2  [0.1871871871871872, 0.2622622622622623, 0.275... -70.958668    6.075653   \n",
       "3                       [0.196, 0.275, 0.241, 0.288] -67.801152    5.750935   \n",
       "4                       [0.467, 0.276, 0.022, 0.235] -74.249501    6.414325   \n",
       "\n",
       "      sharpe  \n",
       "0 -12.492238  \n",
       "1 -13.083756  \n",
       "2 -11.679184  \n",
       "3 -11.789587  \n",
       "4 -11.575576  "
      ]
     },
     "execution_count": 126,
     "metadata": {},
     "output_type": "execute_result"
    }
   ],
   "source": [
    "scatter_data = DataFrame()\n",
    "for i in range(0, 2500):\n",
    "    weights    = random_weights()\n",
    "    returns    = portfolio_annual_returns(    portfolio, weights )\n",
    "    volatility = portfolio_annual_volatility( portfolio, weights )\n",
    "    sharpe     = returns / volatility\n",
    "    scatter_data = scatter_data.append([{\n",
    "        \"weights\":    weights,\n",
    "        \"returns\":    returns,\n",
    "        \"volatility\": volatility,\n",
    "        \"sharpe\":     sharpe\n",
    "    }])\n",
    "\n",
    "scatter_data.reset_index(inplace=True, drop=True)\n",
    "scatter_data.head()"
   ]
  },
  {
   "cell_type": "code",
   "execution_count": 127,
   "metadata": {},
   "outputs": [
    {
     "data": {
      "text/plain": [
       "weights       [0.248, 0.009, 0.741, 0.002]\n",
       "returns                           -136.253\n",
       "volatility                         12.8162\n",
       "sharpe                            -10.6313\n",
       "Name: 1990, dtype: object"
      ]
     },
     "execution_count": 127,
     "metadata": {},
     "output_type": "execute_result"
    }
   ],
   "source": [
    "point_max_sharpe = scatter_data.loc[ scatter_data['sharpe'].idxmax()     ]\n",
    "point_max_sharpe"
   ]
  },
  {
   "cell_type": "code",
   "execution_count": 128,
   "metadata": {},
   "outputs": [
    {
     "data": {
      "text/plain": [
       "weights       [0.007, 0.667, 0.012, 0.314]\n",
       "returns                           -15.9663\n",
       "volatility                        0.772692\n",
       "sharpe                            -20.6633\n",
       "Name: 472, dtype: object"
      ]
     },
     "execution_count": 128,
     "metadata": {},
     "output_type": "execute_result"
    }
   ],
   "source": [
    "\n",
    "point_min_volatility = scatter_data.loc[ scatter_data['volatility'].idxmin() ]\n",
    "point_min_volatility\n"
   ]
  },
  {
   "cell_type": "code",
   "execution_count": 129,
   "metadata": {},
   "outputs": [
    {
     "data": {
      "text/plain": [
       "<matplotlib.collections.PathCollection at 0x264066bfc48>"
      ]
     },
     "execution_count": 129,
     "metadata": {},
     "output_type": "execute_result"
    },
    {
     "data": {
      "image/png": "[encoded data removed]",
      "text/plain": [
       "<Figure size 1440x720 with 2 Axes>"
      ]
     },
     "metadata": {
      "needs_background": "light"
     },
     "output_type": "display_data"
    }
   ],
   "source": [
    "#the graph is shows the straight line due to we use portfolio not directly close price data\n",
    "fig, ax = plt.subplots(figsize=(20, 10), nrows=1, ncols=1)\n",
    "plt.scatter( \n",
    "    scatter_data.volatility,     \n",
    "    scatter_data.returns, \n",
    "    c = scatter_data.sharpe\n",
    ")\n",
    "plt.title('Portfolo Weightings - Monty-Carlo Simulation')\n",
    "plt.ylabel('Annualized Return')\n",
    "plt.xlabel('Annualized Volatility')\n",
    "plt.colorbar()\n",
    "\n",
    "# Mark the 2 portfolios where\n",
    "plt.scatter( point_max_sharpe.volatility,     point_max_sharpe.returns,     marker=(5,1,0), c='b', s=200 )\n",
    "plt.scatter( point_min_volatility.volatility, point_min_volatility.returns, marker=(5,1,0), c='r', s=200 )\n"
   ]
  },
  {
   "cell_type": "code",
   "execution_count": null,
   "metadata": {},
   "outputs": [],
   "source": []
  }
 ],
 "metadata": {
  "kernelspec": {
   "display_name": "Python 3",
   "language": "python",
   "name": "python3"
  },
  "language_info": {
   "codemirror_mode": {
    "name": "ipython",
    "version": 3
   },
   "file_extension": ".py",
   "mimetype": "text/x-python",
   "name": "python",
   "nbconvert_exporter": "python",
   "pygments_lexer": "ipython3",
   "version": "3.7.4"
  }
 },
 "nbformat": 4,
 "nbformat_minor": 2
}
